{
 "cells": [
  {
   "cell_type": "code",
   "execution_count": 1,
   "metadata": {},
   "outputs": [
    {
     "data": {
      "text/plain": [
       "'Test needs to run for at least 120 days (120284 variant samples) to detect a 1.0% uplift'"
      ]
     },
     "execution_count": 1,
     "metadata": {},
     "output_type": "execute_result"
    }
   ],
   "source": [
    "def sample_size_calculator(p1, uplift = 0.05, daily_variant_volume = 1000, ratio = 1, burnout = 0): \n",
    "    p2 = p1*(uplift+1)\n",
    "    nom = ((1.96+0.84)**2)*(p1*(1-p1)+p2*(1-p2)*ratio)**0.5\n",
    "    denom = (p1-p2)**2\n",
    "    \n",
    "    days = int(nom/denom)/daily_variant_volume\n",
    "    \n",
    "    days = days - burnout\n",
    "    \n",
    "    return \"Test needs to run for at least {} days ({} variant samples) to detect a {}% uplift\".format(round(days), int(nom/denom), (uplift)*100)\n",
    "\n",
    "sample_size_calculator(0.66, 0.01, ratio = 1)"
   ]
  },
  {
   "cell_type": "code",
   "execution_count": 19,
   "metadata": {},
   "outputs": [
    {
     "data": {
      "text/html": [
       "<div>\n",
       "<style scoped>\n",
       "    .dataframe tbody tr th:only-of-type {\n",
       "        vertical-align: middle;\n",
       "    }\n",
       "\n",
       "    .dataframe tbody tr th {\n",
       "        vertical-align: top;\n",
       "    }\n",
       "\n",
       "    .dataframe thead th {\n",
       "        text-align: right;\n",
       "    }\n",
       "</style>\n",
       "<table border=\"1\" class=\"dataframe\">\n",
       "  <thead>\n",
       "    <tr style=\"text-align: right;\">\n",
       "      <th></th>\n",
       "      <th>Uplift - %</th>\n",
       "      <th>Samples</th>\n",
       "    </tr>\n",
       "  </thead>\n",
       "  <tbody>\n",
       "    <tr>\n",
       "      <th>0</th>\n",
       "      <td>1</td>\n",
       "      <td>221743</td>\n",
       "    </tr>\n",
       "    <tr>\n",
       "      <th>1</th>\n",
       "      <td>6.44444</td>\n",
       "      <td>5333</td>\n",
       "    </tr>\n",
       "    <tr>\n",
       "      <th>2</th>\n",
       "      <td>11.8889</td>\n",
       "      <td>1563</td>\n",
       "    </tr>\n",
       "    <tr>\n",
       "      <th>3</th>\n",
       "      <td>17.3333</td>\n",
       "      <td>732</td>\n",
       "    </tr>\n",
       "    <tr>\n",
       "      <th>4</th>\n",
       "      <td>22.7778</td>\n",
       "      <td>421</td>\n",
       "    </tr>\n",
       "    <tr>\n",
       "      <th>5</th>\n",
       "      <td>28.2222</td>\n",
       "      <td>272</td>\n",
       "    </tr>\n",
       "    <tr>\n",
       "      <th>6</th>\n",
       "      <td>33.6667</td>\n",
       "      <td>190</td>\n",
       "    </tr>\n",
       "    <tr>\n",
       "      <th>7</th>\n",
       "      <td>39.1111</td>\n",
       "      <td>139</td>\n",
       "    </tr>\n",
       "    <tr>\n",
       "      <th>8</th>\n",
       "      <td>44.5556</td>\n",
       "      <td>106</td>\n",
       "    </tr>\n",
       "    <tr>\n",
       "      <th>9</th>\n",
       "      <td>50</td>\n",
       "      <td>82</td>\n",
       "    </tr>\n",
       "  </tbody>\n",
       "</table>\n",
       "</div>"
      ],
      "text/plain": [
       "  Uplift - % Samples\n",
       "0          1  221743\n",
       "1    6.44444    5333\n",
       "2    11.8889    1563\n",
       "3    17.3333     732\n",
       "4    22.7778     421\n",
       "5    28.2222     272\n",
       "6    33.6667     190\n",
       "7    39.1111     139\n",
       "8    44.5556     106\n",
       "9         50      82"
      ]
     },
     "execution_count": 19,
     "metadata": {},
     "output_type": "execute_result"
    }
   ],
   "source": [
    "import numpy as np\n",
    "import pandas as pd\n",
    "\n",
    "def get_sample_size(p1, uplift = 0.05, ratio = 1):\n",
    "    \n",
    "    \"\"\"\n",
    "       :param float p1: The control rate.\n",
    "       :param float uplift: The relative expected change against the control.\n",
    "       :param float ratio: The ratio between variant and control sample size. \n",
    "       :type priority: integer or None\n",
    "       :return: The expected number of observations the variant needs for statistical significance. \n",
    "    \"\"\"\n",
    "    \n",
    "    p2 = p1*(uplift+1)\n",
    "    \n",
    "    if uplift < 0:\n",
    "        p2 = p1*(uplift-1)\n",
    "        \n",
    "    nom = ((1.96+0.84)**2)*(p1*(1-p1)+p2*(1-p2)*ratio)**0.5\n",
    "    denom = (p1-p2)**2\n",
    "    \n",
    "    return int(nom/denom)\n",
    "\n",
    "\n",
    "def get_days(sample_size, expected_size): \n",
    "    \n",
    "    return round(sample_size/expected_size)\n",
    "\n",
    "\n",
    "def simulate(p1, min_uplift, max_uplift, size = 10): \n",
    "    \n",
    "    grid = list(np.linspace(min_uplift, max_uplift, size))\n",
    "    \n",
    "    df = pd.DataFrame(columns=['Uplift - %', 'Samples'])\n",
    "    \n",
    "    for i, u in enumerate(grid): \n",
    "        df.at[i, 'Uplift - %'] = u*100\n",
    "        df.at[i, 'Samples'] = get_sample_size(p1, u)\n",
    "    \n",
    "    return df \n",
    "\n",
    "\n",
    "\n",
    "simulate(p1 = 0.5, min_uplift=0.01, max_uplift=0.5)\n",
    "\n",
    "\n",
    "        \n",
    "    \n",
    "    \n"
   ]
  },
  {
   "cell_type": "code",
   "execution_count": 10,
   "metadata": {},
   "outputs": [
    {
     "data": {
      "text/plain": [
       "13630"
      ]
     },
     "execution_count": 10,
     "metadata": {},
     "output_type": "execute_result"
    }
   ],
   "source": []
  }
 ],
 "metadata": {
  "kernelspec": {
   "display_name": "Python 3",
   "language": "python",
   "name": "python3"
  },
  "language_info": {
   "codemirror_mode": {
    "name": "ipython",
    "version": 3
   },
   "file_extension": ".py",
   "mimetype": "text/x-python",
   "name": "python",
   "nbconvert_exporter": "python",
   "pygments_lexer": "ipython3",
   "version": "3.8.5"
  }
 },
 "nbformat": 4,
 "nbformat_minor": 4
}
